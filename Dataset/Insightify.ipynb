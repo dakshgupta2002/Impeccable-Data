{
 "cells": [
  {
   "cell_type": "markdown",
   "id": "d3a55358",
   "metadata": {},
   "source": [
    "# Basic Statistics"
   ]
  },
  {
   "cell_type": "code",
   "execution_count": 2,
   "id": "43926a48",
   "metadata": {},
   "outputs": [],
   "source": [
    "import numpy as np  # linear algebra\n",
    "import pandas as pd  # data processing, file reading\n",
    "import seaborn as sns  # statistical graphs\n",
    "import matplotlib.pyplot as plt  # graphical data visualisation\n",
    "%matplotlib inline"
   ]
  },
  {
   "cell_type": "code",
   "execution_count": 3,
   "id": "3b11c64c",
   "metadata": {},
   "outputs": [
    {
     "data": {
      "text/html": [
       "<div>\n",
       "<style scoped>\n",
       "    .dataframe tbody tr th:only-of-type {\n",
       "        vertical-align: middle;\n",
       "    }\n",
       "\n",
       "    .dataframe tbody tr th {\n",
       "        vertical-align: top;\n",
       "    }\n",
       "\n",
       "    .dataframe thead th {\n",
       "        text-align: right;\n",
       "    }\n",
       "</style>\n",
       "<table border=\"1\" class=\"dataframe\">\n",
       "  <thead>\n",
       "    <tr style=\"text-align: right;\">\n",
       "      <th></th>\n",
       "      <th>hotel</th>\n",
       "      <th>is_canceled</th>\n",
       "      <th>lead_time</th>\n",
       "      <th>arrival_date_year</th>\n",
       "      <th>arrival_date_month</th>\n",
       "      <th>arrival_date_week_number</th>\n",
       "      <th>arrival_date_day_of_month</th>\n",
       "      <th>stays_in_weekend_nights</th>\n",
       "      <th>stays_in_week_nights</th>\n",
       "      <th>adults</th>\n",
       "      <th>...</th>\n",
       "      <th>deposit_type</th>\n",
       "      <th>agent</th>\n",
       "      <th>company</th>\n",
       "      <th>days_in_waiting_list</th>\n",
       "      <th>customer_type</th>\n",
       "      <th>adr</th>\n",
       "      <th>required_car_parking_spaces</th>\n",
       "      <th>total_of_special_requests</th>\n",
       "      <th>reservation_status</th>\n",
       "      <th>reservation_status_date</th>\n",
       "    </tr>\n",
       "  </thead>\n",
       "  <tbody>\n",
       "    <tr>\n",
       "      <th>0</th>\n",
       "      <td>Resort Hotel</td>\n",
       "      <td>0</td>\n",
       "      <td>342</td>\n",
       "      <td>2015</td>\n",
       "      <td>July</td>\n",
       "      <td>27</td>\n",
       "      <td>1</td>\n",
       "      <td>0</td>\n",
       "      <td>0</td>\n",
       "      <td>2</td>\n",
       "      <td>...</td>\n",
       "      <td>No Deposit</td>\n",
       "      <td>NaN</td>\n",
       "      <td>NaN</td>\n",
       "      <td>0</td>\n",
       "      <td>Transient</td>\n",
       "      <td>0.0</td>\n",
       "      <td>0</td>\n",
       "      <td>0</td>\n",
       "      <td>Check-Out</td>\n",
       "      <td>2015-07-01</td>\n",
       "    </tr>\n",
       "    <tr>\n",
       "      <th>1</th>\n",
       "      <td>Resort Hotel</td>\n",
       "      <td>0</td>\n",
       "      <td>737</td>\n",
       "      <td>2015</td>\n",
       "      <td>July</td>\n",
       "      <td>27</td>\n",
       "      <td>1</td>\n",
       "      <td>0</td>\n",
       "      <td>0</td>\n",
       "      <td>2</td>\n",
       "      <td>...</td>\n",
       "      <td>No Deposit</td>\n",
       "      <td>NaN</td>\n",
       "      <td>NaN</td>\n",
       "      <td>0</td>\n",
       "      <td>Transient</td>\n",
       "      <td>0.0</td>\n",
       "      <td>0</td>\n",
       "      <td>0</td>\n",
       "      <td>Check-Out</td>\n",
       "      <td>2015-07-01</td>\n",
       "    </tr>\n",
       "    <tr>\n",
       "      <th>2</th>\n",
       "      <td>Resort Hotel</td>\n",
       "      <td>0</td>\n",
       "      <td>7</td>\n",
       "      <td>2015</td>\n",
       "      <td>July</td>\n",
       "      <td>27</td>\n",
       "      <td>1</td>\n",
       "      <td>0</td>\n",
       "      <td>1</td>\n",
       "      <td>1</td>\n",
       "      <td>...</td>\n",
       "      <td>No Deposit</td>\n",
       "      <td>NaN</td>\n",
       "      <td>NaN</td>\n",
       "      <td>0</td>\n",
       "      <td>Transient</td>\n",
       "      <td>75.0</td>\n",
       "      <td>0</td>\n",
       "      <td>0</td>\n",
       "      <td>Check-Out</td>\n",
       "      <td>2015-07-02</td>\n",
       "    </tr>\n",
       "    <tr>\n",
       "      <th>3</th>\n",
       "      <td>Resort Hotel</td>\n",
       "      <td>0</td>\n",
       "      <td>13</td>\n",
       "      <td>2015</td>\n",
       "      <td>July</td>\n",
       "      <td>27</td>\n",
       "      <td>1</td>\n",
       "      <td>0</td>\n",
       "      <td>1</td>\n",
       "      <td>1</td>\n",
       "      <td>...</td>\n",
       "      <td>No Deposit</td>\n",
       "      <td>304.0</td>\n",
       "      <td>NaN</td>\n",
       "      <td>0</td>\n",
       "      <td>Transient</td>\n",
       "      <td>75.0</td>\n",
       "      <td>0</td>\n",
       "      <td>0</td>\n",
       "      <td>Check-Out</td>\n",
       "      <td>2015-07-02</td>\n",
       "    </tr>\n",
       "    <tr>\n",
       "      <th>4</th>\n",
       "      <td>Resort Hotel</td>\n",
       "      <td>0</td>\n",
       "      <td>14</td>\n",
       "      <td>2015</td>\n",
       "      <td>July</td>\n",
       "      <td>27</td>\n",
       "      <td>1</td>\n",
       "      <td>0</td>\n",
       "      <td>2</td>\n",
       "      <td>2</td>\n",
       "      <td>...</td>\n",
       "      <td>No Deposit</td>\n",
       "      <td>240.0</td>\n",
       "      <td>NaN</td>\n",
       "      <td>0</td>\n",
       "      <td>Transient</td>\n",
       "      <td>98.0</td>\n",
       "      <td>0</td>\n",
       "      <td>1</td>\n",
       "      <td>Check-Out</td>\n",
       "      <td>2015-07-03</td>\n",
       "    </tr>\n",
       "  </tbody>\n",
       "</table>\n",
       "<p>5 rows × 32 columns</p>\n",
       "</div>"
      ],
      "text/plain": [
       "          hotel  is_canceled  lead_time  arrival_date_year arrival_date_month  \\\n",
       "0  Resort Hotel            0        342               2015               July   \n",
       "1  Resort Hotel            0        737               2015               July   \n",
       "2  Resort Hotel            0          7               2015               July   \n",
       "3  Resort Hotel            0         13               2015               July   \n",
       "4  Resort Hotel            0         14               2015               July   \n",
       "\n",
       "   arrival_date_week_number  arrival_date_day_of_month  \\\n",
       "0                        27                          1   \n",
       "1                        27                          1   \n",
       "2                        27                          1   \n",
       "3                        27                          1   \n",
       "4                        27                          1   \n",
       "\n",
       "   stays_in_weekend_nights  stays_in_week_nights  adults  ...  deposit_type  \\\n",
       "0                        0                     0       2  ...    No Deposit   \n",
       "1                        0                     0       2  ...    No Deposit   \n",
       "2                        0                     1       1  ...    No Deposit   \n",
       "3                        0                     1       1  ...    No Deposit   \n",
       "4                        0                     2       2  ...    No Deposit   \n",
       "\n",
       "   agent company days_in_waiting_list customer_type   adr  \\\n",
       "0    NaN     NaN                    0     Transient   0.0   \n",
       "1    NaN     NaN                    0     Transient   0.0   \n",
       "2    NaN     NaN                    0     Transient  75.0   \n",
       "3  304.0     NaN                    0     Transient  75.0   \n",
       "4  240.0     NaN                    0     Transient  98.0   \n",
       "\n",
       "   required_car_parking_spaces  total_of_special_requests  reservation_status  \\\n",
       "0                            0                          0           Check-Out   \n",
       "1                            0                          0           Check-Out   \n",
       "2                            0                          0           Check-Out   \n",
       "3                            0                          0           Check-Out   \n",
       "4                            0                          1           Check-Out   \n",
       "\n",
       "  reservation_status_date  \n",
       "0              2015-07-01  \n",
       "1              2015-07-01  \n",
       "2              2015-07-02  \n",
       "3              2015-07-02  \n",
       "4              2015-07-03  \n",
       "\n",
       "[5 rows x 32 columns]"
      ]
     },
     "execution_count": 3,
     "metadata": {},
     "output_type": "execute_result"
    }
   ],
   "source": [
    "df = pd.read_csv('hotel_bookings.csv')\n",
    "df.head()  # top 5 entries "
   ]
  },
  {
   "cell_type": "code",
   "execution_count": 4,
   "id": "870ddf62",
   "metadata": {},
   "outputs": [
    {
     "data": {
      "text/plain": [
       "(119390, 32)"
      ]
     },
     "execution_count": 4,
     "metadata": {},
     "output_type": "execute_result"
    }
   ],
   "source": [
    "df.shape  # (rows, columns)"
   ]
  },
  {
   "cell_type": "code",
   "execution_count": 5,
   "id": "c5118193",
   "metadata": {},
   "outputs": [
    {
     "data": {
      "text/plain": [
       "Index(['hotel', 'is_canceled', 'lead_time', 'arrival_date_year',\n",
       "       'arrival_date_month', 'arrival_date_week_number',\n",
       "       'arrival_date_day_of_month', 'stays_in_weekend_nights',\n",
       "       'stays_in_week_nights', 'adults', 'children', 'babies', 'meal',\n",
       "       'country', 'market_segment', 'distribution_channel',\n",
       "       'is_repeated_guest', 'previous_cancellations',\n",
       "       'previous_bookings_not_canceled', 'reserved_room_type',\n",
       "       'assigned_room_type', 'booking_changes', 'deposit_type', 'agent',\n",
       "       'company', 'days_in_waiting_list', 'customer_type', 'adr',\n",
       "       'required_car_parking_spaces', 'total_of_special_requests',\n",
       "       'reservation_status', 'reservation_status_date'],\n",
       "      dtype='object')"
      ]
     },
     "execution_count": 5,
     "metadata": {},
     "output_type": "execute_result"
    }
   ],
   "source": [
    "df.keys()  # headings of the columns"
   ]
  },
  {
   "cell_type": "code",
   "execution_count": 6,
   "id": "791bb1f2",
   "metadata": {},
   "outputs": [
    {
     "data": {
      "text/html": [
       "<div>\n",
       "<style scoped>\n",
       "    .dataframe tbody tr th:only-of-type {\n",
       "        vertical-align: middle;\n",
       "    }\n",
       "\n",
       "    .dataframe tbody tr th {\n",
       "        vertical-align: top;\n",
       "    }\n",
       "\n",
       "    .dataframe thead th {\n",
       "        text-align: right;\n",
       "    }\n",
       "</style>\n",
       "<table border=\"1\" class=\"dataframe\">\n",
       "  <thead>\n",
       "    <tr style=\"text-align: right;\">\n",
       "      <th></th>\n",
       "      <th>is_canceled</th>\n",
       "      <th>lead_time</th>\n",
       "      <th>arrival_date_year</th>\n",
       "      <th>arrival_date_week_number</th>\n",
       "      <th>arrival_date_day_of_month</th>\n",
       "      <th>stays_in_weekend_nights</th>\n",
       "      <th>stays_in_week_nights</th>\n",
       "      <th>adults</th>\n",
       "      <th>children</th>\n",
       "      <th>babies</th>\n",
       "      <th>is_repeated_guest</th>\n",
       "      <th>previous_cancellations</th>\n",
       "      <th>previous_bookings_not_canceled</th>\n",
       "      <th>booking_changes</th>\n",
       "      <th>agent</th>\n",
       "      <th>company</th>\n",
       "      <th>days_in_waiting_list</th>\n",
       "      <th>adr</th>\n",
       "      <th>required_car_parking_spaces</th>\n",
       "      <th>total_of_special_requests</th>\n",
       "    </tr>\n",
       "  </thead>\n",
       "  <tbody>\n",
       "    <tr>\n",
       "      <th>count</th>\n",
       "      <td>119390.000000</td>\n",
       "      <td>119390.000000</td>\n",
       "      <td>119390.000000</td>\n",
       "      <td>119390.000000</td>\n",
       "      <td>119390.000000</td>\n",
       "      <td>119390.000000</td>\n",
       "      <td>119390.000000</td>\n",
       "      <td>119390.000000</td>\n",
       "      <td>119386.000000</td>\n",
       "      <td>119390.000000</td>\n",
       "      <td>119390.000000</td>\n",
       "      <td>119390.000000</td>\n",
       "      <td>119390.000000</td>\n",
       "      <td>119390.000000</td>\n",
       "      <td>103050.000000</td>\n",
       "      <td>6797.000000</td>\n",
       "      <td>119390.000000</td>\n",
       "      <td>119390.000000</td>\n",
       "      <td>119390.000000</td>\n",
       "      <td>119390.000000</td>\n",
       "    </tr>\n",
       "    <tr>\n",
       "      <th>mean</th>\n",
       "      <td>0.370416</td>\n",
       "      <td>104.011416</td>\n",
       "      <td>2016.156554</td>\n",
       "      <td>27.165173</td>\n",
       "      <td>15.798241</td>\n",
       "      <td>0.927599</td>\n",
       "      <td>2.500302</td>\n",
       "      <td>1.856403</td>\n",
       "      <td>0.103890</td>\n",
       "      <td>0.007949</td>\n",
       "      <td>0.031912</td>\n",
       "      <td>0.087118</td>\n",
       "      <td>0.137097</td>\n",
       "      <td>0.221124</td>\n",
       "      <td>86.693382</td>\n",
       "      <td>189.266735</td>\n",
       "      <td>2.321149</td>\n",
       "      <td>101.831122</td>\n",
       "      <td>0.062518</td>\n",
       "      <td>0.571363</td>\n",
       "    </tr>\n",
       "    <tr>\n",
       "      <th>std</th>\n",
       "      <td>0.482918</td>\n",
       "      <td>106.863097</td>\n",
       "      <td>0.707476</td>\n",
       "      <td>13.605138</td>\n",
       "      <td>8.780829</td>\n",
       "      <td>0.998613</td>\n",
       "      <td>1.908286</td>\n",
       "      <td>0.579261</td>\n",
       "      <td>0.398561</td>\n",
       "      <td>0.097436</td>\n",
       "      <td>0.175767</td>\n",
       "      <td>0.844336</td>\n",
       "      <td>1.497437</td>\n",
       "      <td>0.652306</td>\n",
       "      <td>110.774548</td>\n",
       "      <td>131.655015</td>\n",
       "      <td>17.594721</td>\n",
       "      <td>50.535790</td>\n",
       "      <td>0.245291</td>\n",
       "      <td>0.792798</td>\n",
       "    </tr>\n",
       "    <tr>\n",
       "      <th>min</th>\n",
       "      <td>0.000000</td>\n",
       "      <td>0.000000</td>\n",
       "      <td>2015.000000</td>\n",
       "      <td>1.000000</td>\n",
       "      <td>1.000000</td>\n",
       "      <td>0.000000</td>\n",
       "      <td>0.000000</td>\n",
       "      <td>0.000000</td>\n",
       "      <td>0.000000</td>\n",
       "      <td>0.000000</td>\n",
       "      <td>0.000000</td>\n",
       "      <td>0.000000</td>\n",
       "      <td>0.000000</td>\n",
       "      <td>0.000000</td>\n",
       "      <td>1.000000</td>\n",
       "      <td>6.000000</td>\n",
       "      <td>0.000000</td>\n",
       "      <td>-6.380000</td>\n",
       "      <td>0.000000</td>\n",
       "      <td>0.000000</td>\n",
       "    </tr>\n",
       "    <tr>\n",
       "      <th>25%</th>\n",
       "      <td>0.000000</td>\n",
       "      <td>18.000000</td>\n",
       "      <td>2016.000000</td>\n",
       "      <td>16.000000</td>\n",
       "      <td>8.000000</td>\n",
       "      <td>0.000000</td>\n",
       "      <td>1.000000</td>\n",
       "      <td>2.000000</td>\n",
       "      <td>0.000000</td>\n",
       "      <td>0.000000</td>\n",
       "      <td>0.000000</td>\n",
       "      <td>0.000000</td>\n",
       "      <td>0.000000</td>\n",
       "      <td>0.000000</td>\n",
       "      <td>9.000000</td>\n",
       "      <td>62.000000</td>\n",
       "      <td>0.000000</td>\n",
       "      <td>69.290000</td>\n",
       "      <td>0.000000</td>\n",
       "      <td>0.000000</td>\n",
       "    </tr>\n",
       "    <tr>\n",
       "      <th>50%</th>\n",
       "      <td>0.000000</td>\n",
       "      <td>69.000000</td>\n",
       "      <td>2016.000000</td>\n",
       "      <td>28.000000</td>\n",
       "      <td>16.000000</td>\n",
       "      <td>1.000000</td>\n",
       "      <td>2.000000</td>\n",
       "      <td>2.000000</td>\n",
       "      <td>0.000000</td>\n",
       "      <td>0.000000</td>\n",
       "      <td>0.000000</td>\n",
       "      <td>0.000000</td>\n",
       "      <td>0.000000</td>\n",
       "      <td>0.000000</td>\n",
       "      <td>14.000000</td>\n",
       "      <td>179.000000</td>\n",
       "      <td>0.000000</td>\n",
       "      <td>94.575000</td>\n",
       "      <td>0.000000</td>\n",
       "      <td>0.000000</td>\n",
       "    </tr>\n",
       "    <tr>\n",
       "      <th>75%</th>\n",
       "      <td>1.000000</td>\n",
       "      <td>160.000000</td>\n",
       "      <td>2017.000000</td>\n",
       "      <td>38.000000</td>\n",
       "      <td>23.000000</td>\n",
       "      <td>2.000000</td>\n",
       "      <td>3.000000</td>\n",
       "      <td>2.000000</td>\n",
       "      <td>0.000000</td>\n",
       "      <td>0.000000</td>\n",
       "      <td>0.000000</td>\n",
       "      <td>0.000000</td>\n",
       "      <td>0.000000</td>\n",
       "      <td>0.000000</td>\n",
       "      <td>229.000000</td>\n",
       "      <td>270.000000</td>\n",
       "      <td>0.000000</td>\n",
       "      <td>126.000000</td>\n",
       "      <td>0.000000</td>\n",
       "      <td>1.000000</td>\n",
       "    </tr>\n",
       "    <tr>\n",
       "      <th>max</th>\n",
       "      <td>1.000000</td>\n",
       "      <td>737.000000</td>\n",
       "      <td>2017.000000</td>\n",
       "      <td>53.000000</td>\n",
       "      <td>31.000000</td>\n",
       "      <td>19.000000</td>\n",
       "      <td>50.000000</td>\n",
       "      <td>55.000000</td>\n",
       "      <td>10.000000</td>\n",
       "      <td>10.000000</td>\n",
       "      <td>1.000000</td>\n",
       "      <td>26.000000</td>\n",
       "      <td>72.000000</td>\n",
       "      <td>21.000000</td>\n",
       "      <td>535.000000</td>\n",
       "      <td>543.000000</td>\n",
       "      <td>391.000000</td>\n",
       "      <td>5400.000000</td>\n",
       "      <td>8.000000</td>\n",
       "      <td>5.000000</td>\n",
       "    </tr>\n",
       "  </tbody>\n",
       "</table>\n",
       "</div>"
      ],
      "text/plain": [
       "         is_canceled      lead_time  arrival_date_year  \\\n",
       "count  119390.000000  119390.000000      119390.000000   \n",
       "mean        0.370416     104.011416        2016.156554   \n",
       "std         0.482918     106.863097           0.707476   \n",
       "min         0.000000       0.000000        2015.000000   \n",
       "25%         0.000000      18.000000        2016.000000   \n",
       "50%         0.000000      69.000000        2016.000000   \n",
       "75%         1.000000     160.000000        2017.000000   \n",
       "max         1.000000     737.000000        2017.000000   \n",
       "\n",
       "       arrival_date_week_number  arrival_date_day_of_month  \\\n",
       "count             119390.000000              119390.000000   \n",
       "mean                  27.165173                  15.798241   \n",
       "std                   13.605138                   8.780829   \n",
       "min                    1.000000                   1.000000   \n",
       "25%                   16.000000                   8.000000   \n",
       "50%                   28.000000                  16.000000   \n",
       "75%                   38.000000                  23.000000   \n",
       "max                   53.000000                  31.000000   \n",
       "\n",
       "       stays_in_weekend_nights  stays_in_week_nights         adults  \\\n",
       "count            119390.000000         119390.000000  119390.000000   \n",
       "mean                  0.927599              2.500302       1.856403   \n",
       "std                   0.998613              1.908286       0.579261   \n",
       "min                   0.000000              0.000000       0.000000   \n",
       "25%                   0.000000              1.000000       2.000000   \n",
       "50%                   1.000000              2.000000       2.000000   \n",
       "75%                   2.000000              3.000000       2.000000   \n",
       "max                  19.000000             50.000000      55.000000   \n",
       "\n",
       "            children         babies  is_repeated_guest  \\\n",
       "count  119386.000000  119390.000000      119390.000000   \n",
       "mean        0.103890       0.007949           0.031912   \n",
       "std         0.398561       0.097436           0.175767   \n",
       "min         0.000000       0.000000           0.000000   \n",
       "25%         0.000000       0.000000           0.000000   \n",
       "50%         0.000000       0.000000           0.000000   \n",
       "75%         0.000000       0.000000           0.000000   \n",
       "max        10.000000      10.000000           1.000000   \n",
       "\n",
       "       previous_cancellations  previous_bookings_not_canceled  \\\n",
       "count           119390.000000                   119390.000000   \n",
       "mean                 0.087118                        0.137097   \n",
       "std                  0.844336                        1.497437   \n",
       "min                  0.000000                        0.000000   \n",
       "25%                  0.000000                        0.000000   \n",
       "50%                  0.000000                        0.000000   \n",
       "75%                  0.000000                        0.000000   \n",
       "max                 26.000000                       72.000000   \n",
       "\n",
       "       booking_changes          agent      company  days_in_waiting_list  \\\n",
       "count    119390.000000  103050.000000  6797.000000         119390.000000   \n",
       "mean          0.221124      86.693382   189.266735              2.321149   \n",
       "std           0.652306     110.774548   131.655015             17.594721   \n",
       "min           0.000000       1.000000     6.000000              0.000000   \n",
       "25%           0.000000       9.000000    62.000000              0.000000   \n",
       "50%           0.000000      14.000000   179.000000              0.000000   \n",
       "75%           0.000000     229.000000   270.000000              0.000000   \n",
       "max          21.000000     535.000000   543.000000            391.000000   \n",
       "\n",
       "                 adr  required_car_parking_spaces  total_of_special_requests  \n",
       "count  119390.000000                119390.000000              119390.000000  \n",
       "mean      101.831122                     0.062518                   0.571363  \n",
       "std        50.535790                     0.245291                   0.792798  \n",
       "min        -6.380000                     0.000000                   0.000000  \n",
       "25%        69.290000                     0.000000                   0.000000  \n",
       "50%        94.575000                     0.000000                   0.000000  \n",
       "75%       126.000000                     0.000000                   1.000000  \n",
       "max      5400.000000                     8.000000                   5.000000  "
      ]
     },
     "execution_count": 6,
     "metadata": {},
     "output_type": "execute_result"
    }
   ],
   "source": [
    "df.describe()  # gives stats of the dataset like count, mean, standard deviation, etc"
   ]
  },
  {
   "cell_type": "code",
   "execution_count": 7,
   "id": "d831b76d",
   "metadata": {},
   "outputs": [
    {
     "name": "stdout",
     "output_type": "stream",
     "text": [
      "<class 'pandas.core.frame.DataFrame'>\n",
      "RangeIndex: 119390 entries, 0 to 119389\n",
      "Data columns (total 32 columns):\n",
      " #   Column                          Non-Null Count   Dtype  \n",
      "---  ------                          --------------   -----  \n",
      " 0   hotel                           119390 non-null  object \n",
      " 1   is_canceled                     119390 non-null  int64  \n",
      " 2   lead_time                       119390 non-null  int64  \n",
      " 3   arrival_date_year               119390 non-null  int64  \n",
      " 4   arrival_date_month              119390 non-null  object \n",
      " 5   arrival_date_week_number        119390 non-null  int64  \n",
      " 6   arrival_date_day_of_month       119390 non-null  int64  \n",
      " 7   stays_in_weekend_nights         119390 non-null  int64  \n",
      " 8   stays_in_week_nights            119390 non-null  int64  \n",
      " 9   adults                          119390 non-null  int64  \n",
      " 10  children                        119386 non-null  float64\n",
      " 11  babies                          119390 non-null  int64  \n",
      " 12  meal                            119390 non-null  object \n",
      " 13  country                         118902 non-null  object \n",
      " 14  market_segment                  119390 non-null  object \n",
      " 15  distribution_channel            119390 non-null  object \n",
      " 16  is_repeated_guest               119390 non-null  int64  \n",
      " 17  previous_cancellations          119390 non-null  int64  \n",
      " 18  previous_bookings_not_canceled  119390 non-null  int64  \n",
      " 19  reserved_room_type              119390 non-null  object \n",
      " 20  assigned_room_type              119390 non-null  object \n",
      " 21  booking_changes                 119390 non-null  int64  \n",
      " 22  deposit_type                    119390 non-null  object \n",
      " 23  agent                           103050 non-null  float64\n",
      " 24  company                         6797 non-null    float64\n",
      " 25  days_in_waiting_list            119390 non-null  int64  \n",
      " 26  customer_type                   119390 non-null  object \n",
      " 27  adr                             119390 non-null  float64\n",
      " 28  required_car_parking_spaces     119390 non-null  int64  \n",
      " 29  total_of_special_requests       119390 non-null  int64  \n",
      " 30  reservation_status              119390 non-null  object \n",
      " 31  reservation_status_date         119390 non-null  object \n",
      "dtypes: float64(4), int64(16), object(12)\n",
      "memory usage: 29.1+ MB\n"
     ]
    }
   ],
   "source": [
    "df.info()  # gives summary of the dataset "
   ]
  },
  {
   "cell_type": "code",
   "execution_count": 8,
   "id": "ea45ef73",
   "metadata": {},
   "outputs": [
    {
     "data": {
      "text/plain": [
       "hotel                                  0\n",
       "is_canceled                            0\n",
       "lead_time                              0\n",
       "arrival_date_year                      0\n",
       "arrival_date_month                     0\n",
       "arrival_date_week_number               0\n",
       "arrival_date_day_of_month              0\n",
       "stays_in_weekend_nights                0\n",
       "stays_in_week_nights                   0\n",
       "adults                                 0\n",
       "children                               4\n",
       "babies                                 0\n",
       "meal                                   0\n",
       "country                              488\n",
       "market_segment                         0\n",
       "distribution_channel                   0\n",
       "is_repeated_guest                      0\n",
       "previous_cancellations                 0\n",
       "previous_bookings_not_canceled         0\n",
       "reserved_room_type                     0\n",
       "assigned_room_type                     0\n",
       "booking_changes                        0\n",
       "deposit_type                           0\n",
       "agent                              16340\n",
       "company                           112593\n",
       "days_in_waiting_list                   0\n",
       "customer_type                          0\n",
       "adr                                    0\n",
       "required_car_parking_spaces            0\n",
       "total_of_special_requests              0\n",
       "reservation_status                     0\n",
       "reservation_status_date                0\n",
       "dtype: int64"
      ]
     },
     "execution_count": 8,
     "metadata": {},
     "output_type": "execute_result"
    }
   ],
   "source": [
    "df.isnull().sum()  # finds the no. of NULL values in a particular column"
   ]
  },
  {
   "cell_type": "markdown",
   "id": "9a003432",
   "metadata": {},
   "source": [
    "# Data Cleaning"
   ]
  },
  {
   "cell_type": "code",
   "execution_count": 9,
   "id": "0c198c2a",
   "metadata": {},
   "outputs": [
    {
     "data": {
      "text/html": [
       "<div>\n",
       "<style scoped>\n",
       "    .dataframe tbody tr th:only-of-type {\n",
       "        vertical-align: middle;\n",
       "    }\n",
       "\n",
       "    .dataframe tbody tr th {\n",
       "        vertical-align: top;\n",
       "    }\n",
       "\n",
       "    .dataframe thead th {\n",
       "        text-align: right;\n",
       "    }\n",
       "</style>\n",
       "<table border=\"1\" class=\"dataframe\">\n",
       "  <thead>\n",
       "    <tr style=\"text-align: right;\">\n",
       "      <th></th>\n",
       "      <th>hotel</th>\n",
       "      <th>is_canceled</th>\n",
       "      <th>lead_time</th>\n",
       "      <th>arrival_date_year</th>\n",
       "      <th>arrival_date_month</th>\n",
       "      <th>arrival_date_week_number</th>\n",
       "      <th>arrival_date_day_of_month</th>\n",
       "      <th>stays_in_weekend_nights</th>\n",
       "      <th>stays_in_week_nights</th>\n",
       "      <th>adults</th>\n",
       "      <th>...</th>\n",
       "      <th>assigned_room_type</th>\n",
       "      <th>booking_changes</th>\n",
       "      <th>deposit_type</th>\n",
       "      <th>days_in_waiting_list</th>\n",
       "      <th>customer_type</th>\n",
       "      <th>adr</th>\n",
       "      <th>required_car_parking_spaces</th>\n",
       "      <th>total_of_special_requests</th>\n",
       "      <th>reservation_status</th>\n",
       "      <th>reservation_status_date</th>\n",
       "    </tr>\n",
       "  </thead>\n",
       "  <tbody>\n",
       "    <tr>\n",
       "      <th>0</th>\n",
       "      <td>Resort Hotel</td>\n",
       "      <td>0</td>\n",
       "      <td>342</td>\n",
       "      <td>2015</td>\n",
       "      <td>July</td>\n",
       "      <td>27</td>\n",
       "      <td>1</td>\n",
       "      <td>0</td>\n",
       "      <td>0</td>\n",
       "      <td>2</td>\n",
       "      <td>...</td>\n",
       "      <td>C</td>\n",
       "      <td>3</td>\n",
       "      <td>No Deposit</td>\n",
       "      <td>0</td>\n",
       "      <td>Transient</td>\n",
       "      <td>0.0</td>\n",
       "      <td>0</td>\n",
       "      <td>0</td>\n",
       "      <td>Check-Out</td>\n",
       "      <td>2015-07-01</td>\n",
       "    </tr>\n",
       "    <tr>\n",
       "      <th>1</th>\n",
       "      <td>Resort Hotel</td>\n",
       "      <td>0</td>\n",
       "      <td>737</td>\n",
       "      <td>2015</td>\n",
       "      <td>July</td>\n",
       "      <td>27</td>\n",
       "      <td>1</td>\n",
       "      <td>0</td>\n",
       "      <td>0</td>\n",
       "      <td>2</td>\n",
       "      <td>...</td>\n",
       "      <td>C</td>\n",
       "      <td>4</td>\n",
       "      <td>No Deposit</td>\n",
       "      <td>0</td>\n",
       "      <td>Transient</td>\n",
       "      <td>0.0</td>\n",
       "      <td>0</td>\n",
       "      <td>0</td>\n",
       "      <td>Check-Out</td>\n",
       "      <td>2015-07-01</td>\n",
       "    </tr>\n",
       "    <tr>\n",
       "      <th>2</th>\n",
       "      <td>Resort Hotel</td>\n",
       "      <td>0</td>\n",
       "      <td>7</td>\n",
       "      <td>2015</td>\n",
       "      <td>July</td>\n",
       "      <td>27</td>\n",
       "      <td>1</td>\n",
       "      <td>0</td>\n",
       "      <td>1</td>\n",
       "      <td>1</td>\n",
       "      <td>...</td>\n",
       "      <td>C</td>\n",
       "      <td>0</td>\n",
       "      <td>No Deposit</td>\n",
       "      <td>0</td>\n",
       "      <td>Transient</td>\n",
       "      <td>75.0</td>\n",
       "      <td>0</td>\n",
       "      <td>0</td>\n",
       "      <td>Check-Out</td>\n",
       "      <td>2015-07-02</td>\n",
       "    </tr>\n",
       "    <tr>\n",
       "      <th>3</th>\n",
       "      <td>Resort Hotel</td>\n",
       "      <td>0</td>\n",
       "      <td>13</td>\n",
       "      <td>2015</td>\n",
       "      <td>July</td>\n",
       "      <td>27</td>\n",
       "      <td>1</td>\n",
       "      <td>0</td>\n",
       "      <td>1</td>\n",
       "      <td>1</td>\n",
       "      <td>...</td>\n",
       "      <td>A</td>\n",
       "      <td>0</td>\n",
       "      <td>No Deposit</td>\n",
       "      <td>0</td>\n",
       "      <td>Transient</td>\n",
       "      <td>75.0</td>\n",
       "      <td>0</td>\n",
       "      <td>0</td>\n",
       "      <td>Check-Out</td>\n",
       "      <td>2015-07-02</td>\n",
       "    </tr>\n",
       "    <tr>\n",
       "      <th>4</th>\n",
       "      <td>Resort Hotel</td>\n",
       "      <td>0</td>\n",
       "      <td>14</td>\n",
       "      <td>2015</td>\n",
       "      <td>July</td>\n",
       "      <td>27</td>\n",
       "      <td>1</td>\n",
       "      <td>0</td>\n",
       "      <td>2</td>\n",
       "      <td>2</td>\n",
       "      <td>...</td>\n",
       "      <td>A</td>\n",
       "      <td>0</td>\n",
       "      <td>No Deposit</td>\n",
       "      <td>0</td>\n",
       "      <td>Transient</td>\n",
       "      <td>98.0</td>\n",
       "      <td>0</td>\n",
       "      <td>1</td>\n",
       "      <td>Check-Out</td>\n",
       "      <td>2015-07-03</td>\n",
       "    </tr>\n",
       "  </tbody>\n",
       "</table>\n",
       "<p>5 rows × 30 columns</p>\n",
       "</div>"
      ],
      "text/plain": [
       "          hotel  is_canceled  lead_time  arrival_date_year arrival_date_month  \\\n",
       "0  Resort Hotel            0        342               2015               July   \n",
       "1  Resort Hotel            0        737               2015               July   \n",
       "2  Resort Hotel            0          7               2015               July   \n",
       "3  Resort Hotel            0         13               2015               July   \n",
       "4  Resort Hotel            0         14               2015               July   \n",
       "\n",
       "   arrival_date_week_number  arrival_date_day_of_month  \\\n",
       "0                        27                          1   \n",
       "1                        27                          1   \n",
       "2                        27                          1   \n",
       "3                        27                          1   \n",
       "4                        27                          1   \n",
       "\n",
       "   stays_in_weekend_nights  stays_in_week_nights  adults  ...  \\\n",
       "0                        0                     0       2  ...   \n",
       "1                        0                     0       2  ...   \n",
       "2                        0                     1       1  ...   \n",
       "3                        0                     1       1  ...   \n",
       "4                        0                     2       2  ...   \n",
       "\n",
       "   assigned_room_type  booking_changes deposit_type days_in_waiting_list  \\\n",
       "0                   C                3   No Deposit                    0   \n",
       "1                   C                4   No Deposit                    0   \n",
       "2                   C                0   No Deposit                    0   \n",
       "3                   A                0   No Deposit                    0   \n",
       "4                   A                0   No Deposit                    0   \n",
       "\n",
       "  customer_type   adr  required_car_parking_spaces  total_of_special_requests  \\\n",
       "0     Transient   0.0                            0                          0   \n",
       "1     Transient   0.0                            0                          0   \n",
       "2     Transient  75.0                            0                          0   \n",
       "3     Transient  75.0                            0                          0   \n",
       "4     Transient  98.0                            0                          1   \n",
       "\n",
       "   reservation_status reservation_status_date  \n",
       "0           Check-Out              2015-07-01  \n",
       "1           Check-Out              2015-07-01  \n",
       "2           Check-Out              2015-07-02  \n",
       "3           Check-Out              2015-07-02  \n",
       "4           Check-Out              2015-07-03  \n",
       "\n",
       "[5 rows x 30 columns]"
      ]
     },
     "execution_count": 9,
     "metadata": {},
     "output_type": "execute_result"
    }
   ],
   "source": [
    "newdf = df.drop([\"agent\", \"company\"], axis = \"columns\")  # dropped these columns as they had alot of NULL values.\n",
    "newdf.head() "
   ]
  },
  {
   "cell_type": "code",
   "execution_count": 10,
   "id": "0cde4e85",
   "metadata": {},
   "outputs": [
    {
     "data": {
      "text/plain": [
       "(119390, 30)"
      ]
     },
     "execution_count": 10,
     "metadata": {},
     "output_type": "execute_result"
    }
   ],
   "source": [
    "newdf.shape  # (rows, columns) of newdf"
   ]
  },
  {
   "cell_type": "code",
   "execution_count": 11,
   "id": "0d701a26",
   "metadata": {},
   "outputs": [],
   "source": [
    "def fillna_values(col):  # function to fill NULL values of the 'children' column with the median\n",
    "    return col.fillna(col.median())\n",
    "\n",
    "newdf.children = newdf.children.transform(fillna_values)"
   ]
  },
  {
   "cell_type": "code",
   "execution_count": 12,
   "id": "49e598fc",
   "metadata": {},
   "outputs": [],
   "source": [
    "def fillna_values_(col_):  # function to fill NULL values of the 'country' column with the mode\n",
    "    return col_.fillna(str(col_.mode().values[0]))\n",
    "\n",
    "newdf.country = newdf.country.transform(fillna_values_)"
   ]
  },
  {
   "cell_type": "code",
   "execution_count": 13,
   "id": "3c521510",
   "metadata": {},
   "outputs": [
    {
     "data": {
      "text/plain": [
       "hotel                             0\n",
       "is_canceled                       0\n",
       "lead_time                         0\n",
       "arrival_date_year                 0\n",
       "arrival_date_month                0\n",
       "arrival_date_week_number          0\n",
       "arrival_date_day_of_month         0\n",
       "stays_in_weekend_nights           0\n",
       "stays_in_week_nights              0\n",
       "adults                            0\n",
       "children                          0\n",
       "babies                            0\n",
       "meal                              0\n",
       "country                           0\n",
       "market_segment                    0\n",
       "distribution_channel              0\n",
       "is_repeated_guest                 0\n",
       "previous_cancellations            0\n",
       "previous_bookings_not_canceled    0\n",
       "reserved_room_type                0\n",
       "assigned_room_type                0\n",
       "booking_changes                   0\n",
       "deposit_type                      0\n",
       "days_in_waiting_list              0\n",
       "customer_type                     0\n",
       "adr                               0\n",
       "required_car_parking_spaces       0\n",
       "total_of_special_requests         0\n",
       "reservation_status                0\n",
       "reservation_status_date           0\n",
       "dtype: int64"
      ]
     },
     "execution_count": 13,
     "metadata": {},
     "output_type": "execute_result"
    }
   ],
   "source": [
    "newdf.isnull().sum()  # now there is no NULL value in the dataframe"
   ]
  },
  {
   "cell_type": "code",
   "execution_count": 14,
   "id": "b4a92b02",
   "metadata": {},
   "outputs": [],
   "source": [
    "li = []\n",
    "for i in range(119390):\n",
    "    adults = newdf.iloc[i]['adults']\n",
    "    children = newdf.iloc[i]['children'] + newdf.iloc[i]['babies']\n",
    "    if adults == 0:\n",
    "        li.append('Friends')\n",
    "    elif children != 0:\n",
    "        li.append('Family')\n",
    "    elif adults == 1:\n",
    "        li.append('Single')\n",
    "    elif adults == 2:\n",
    "        li.append('Couple')\n",
    "    else:\n",
    "        li.append('Friends')\n",
    "        \n",
    "# Made categories on the basis of how many no. of adults, children or babies are visiting together."
   ]
  },
  {
   "cell_type": "code",
   "execution_count": 15,
   "id": "2d9f5f2b",
   "metadata": {},
   "outputs": [
    {
     "data": {
      "text/html": [
       "<div>\n",
       "<style scoped>\n",
       "    .dataframe tbody tr th:only-of-type {\n",
       "        vertical-align: middle;\n",
       "    }\n",
       "\n",
       "    .dataframe tbody tr th {\n",
       "        vertical-align: top;\n",
       "    }\n",
       "\n",
       "    .dataframe thead th {\n",
       "        text-align: right;\n",
       "    }\n",
       "</style>\n",
       "<table border=\"1\" class=\"dataframe\">\n",
       "  <thead>\n",
       "    <tr style=\"text-align: right;\">\n",
       "      <th></th>\n",
       "      <th>hotel</th>\n",
       "      <th>is_canceled</th>\n",
       "      <th>lead_time</th>\n",
       "      <th>arrival_date_year</th>\n",
       "      <th>arrival_date_month</th>\n",
       "      <th>arrival_date_week_number</th>\n",
       "      <th>arrival_date_day_of_month</th>\n",
       "      <th>stays_in_weekend_nights</th>\n",
       "      <th>stays_in_week_nights</th>\n",
       "      <th>adults</th>\n",
       "      <th>...</th>\n",
       "      <th>booking_changes</th>\n",
       "      <th>deposit_type</th>\n",
       "      <th>days_in_waiting_list</th>\n",
       "      <th>customer_type</th>\n",
       "      <th>adr</th>\n",
       "      <th>required_car_parking_spaces</th>\n",
       "      <th>total_of_special_requests</th>\n",
       "      <th>reservation_status</th>\n",
       "      <th>reservation_status_date</th>\n",
       "      <th>category</th>\n",
       "    </tr>\n",
       "  </thead>\n",
       "  <tbody>\n",
       "    <tr>\n",
       "      <th>0</th>\n",
       "      <td>Resort Hotel</td>\n",
       "      <td>0</td>\n",
       "      <td>342</td>\n",
       "      <td>2015</td>\n",
       "      <td>July</td>\n",
       "      <td>27</td>\n",
       "      <td>1</td>\n",
       "      <td>0</td>\n",
       "      <td>0</td>\n",
       "      <td>2</td>\n",
       "      <td>...</td>\n",
       "      <td>3</td>\n",
       "      <td>No Deposit</td>\n",
       "      <td>0</td>\n",
       "      <td>Transient</td>\n",
       "      <td>0.0</td>\n",
       "      <td>0</td>\n",
       "      <td>0</td>\n",
       "      <td>Check-Out</td>\n",
       "      <td>2015-07-01</td>\n",
       "      <td>Couple</td>\n",
       "    </tr>\n",
       "    <tr>\n",
       "      <th>1</th>\n",
       "      <td>Resort Hotel</td>\n",
       "      <td>0</td>\n",
       "      <td>737</td>\n",
       "      <td>2015</td>\n",
       "      <td>July</td>\n",
       "      <td>27</td>\n",
       "      <td>1</td>\n",
       "      <td>0</td>\n",
       "      <td>0</td>\n",
       "      <td>2</td>\n",
       "      <td>...</td>\n",
       "      <td>4</td>\n",
       "      <td>No Deposit</td>\n",
       "      <td>0</td>\n",
       "      <td>Transient</td>\n",
       "      <td>0.0</td>\n",
       "      <td>0</td>\n",
       "      <td>0</td>\n",
       "      <td>Check-Out</td>\n",
       "      <td>2015-07-01</td>\n",
       "      <td>Couple</td>\n",
       "    </tr>\n",
       "    <tr>\n",
       "      <th>2</th>\n",
       "      <td>Resort Hotel</td>\n",
       "      <td>0</td>\n",
       "      <td>7</td>\n",
       "      <td>2015</td>\n",
       "      <td>July</td>\n",
       "      <td>27</td>\n",
       "      <td>1</td>\n",
       "      <td>0</td>\n",
       "      <td>1</td>\n",
       "      <td>1</td>\n",
       "      <td>...</td>\n",
       "      <td>0</td>\n",
       "      <td>No Deposit</td>\n",
       "      <td>0</td>\n",
       "      <td>Transient</td>\n",
       "      <td>75.0</td>\n",
       "      <td>0</td>\n",
       "      <td>0</td>\n",
       "      <td>Check-Out</td>\n",
       "      <td>2015-07-02</td>\n",
       "      <td>Single</td>\n",
       "    </tr>\n",
       "    <tr>\n",
       "      <th>3</th>\n",
       "      <td>Resort Hotel</td>\n",
       "      <td>0</td>\n",
       "      <td>13</td>\n",
       "      <td>2015</td>\n",
       "      <td>July</td>\n",
       "      <td>27</td>\n",
       "      <td>1</td>\n",
       "      <td>0</td>\n",
       "      <td>1</td>\n",
       "      <td>1</td>\n",
       "      <td>...</td>\n",
       "      <td>0</td>\n",
       "      <td>No Deposit</td>\n",
       "      <td>0</td>\n",
       "      <td>Transient</td>\n",
       "      <td>75.0</td>\n",
       "      <td>0</td>\n",
       "      <td>0</td>\n",
       "      <td>Check-Out</td>\n",
       "      <td>2015-07-02</td>\n",
       "      <td>Single</td>\n",
       "    </tr>\n",
       "    <tr>\n",
       "      <th>4</th>\n",
       "      <td>Resort Hotel</td>\n",
       "      <td>0</td>\n",
       "      <td>14</td>\n",
       "      <td>2015</td>\n",
       "      <td>July</td>\n",
       "      <td>27</td>\n",
       "      <td>1</td>\n",
       "      <td>0</td>\n",
       "      <td>2</td>\n",
       "      <td>2</td>\n",
       "      <td>...</td>\n",
       "      <td>0</td>\n",
       "      <td>No Deposit</td>\n",
       "      <td>0</td>\n",
       "      <td>Transient</td>\n",
       "      <td>98.0</td>\n",
       "      <td>0</td>\n",
       "      <td>1</td>\n",
       "      <td>Check-Out</td>\n",
       "      <td>2015-07-03</td>\n",
       "      <td>Couple</td>\n",
       "    </tr>\n",
       "  </tbody>\n",
       "</table>\n",
       "<p>5 rows × 31 columns</p>\n",
       "</div>"
      ],
      "text/plain": [
       "          hotel  is_canceled  lead_time  arrival_date_year arrival_date_month  \\\n",
       "0  Resort Hotel            0        342               2015               July   \n",
       "1  Resort Hotel            0        737               2015               July   \n",
       "2  Resort Hotel            0          7               2015               July   \n",
       "3  Resort Hotel            0         13               2015               July   \n",
       "4  Resort Hotel            0         14               2015               July   \n",
       "\n",
       "   arrival_date_week_number  arrival_date_day_of_month  \\\n",
       "0                        27                          1   \n",
       "1                        27                          1   \n",
       "2                        27                          1   \n",
       "3                        27                          1   \n",
       "4                        27                          1   \n",
       "\n",
       "   stays_in_weekend_nights  stays_in_week_nights  adults  ...  \\\n",
       "0                        0                     0       2  ...   \n",
       "1                        0                     0       2  ...   \n",
       "2                        0                     1       1  ...   \n",
       "3                        0                     1       1  ...   \n",
       "4                        0                     2       2  ...   \n",
       "\n",
       "   booking_changes  deposit_type days_in_waiting_list customer_type   adr  \\\n",
       "0                3    No Deposit                    0     Transient   0.0   \n",
       "1                4    No Deposit                    0     Transient   0.0   \n",
       "2                0    No Deposit                    0     Transient  75.0   \n",
       "3                0    No Deposit                    0     Transient  75.0   \n",
       "4                0    No Deposit                    0     Transient  98.0   \n",
       "\n",
       "  required_car_parking_spaces  total_of_special_requests  reservation_status  \\\n",
       "0                           0                          0           Check-Out   \n",
       "1                           0                          0           Check-Out   \n",
       "2                           0                          0           Check-Out   \n",
       "3                           0                          0           Check-Out   \n",
       "4                           0                          1           Check-Out   \n",
       "\n",
       "   reservation_status_date category  \n",
       "0               2015-07-01   Couple  \n",
       "1               2015-07-01   Couple  \n",
       "2               2015-07-02   Single  \n",
       "3               2015-07-02   Single  \n",
       "4               2015-07-03   Couple  \n",
       "\n",
       "[5 rows x 31 columns]"
      ]
     },
     "execution_count": 15,
     "metadata": {},
     "output_type": "execute_result"
    }
   ],
   "source": [
    "newdf.insert(30, 'category', li)\n",
    "newdf.head()\n",
    "# new column 'category' inserted"
   ]
  },
  {
   "cell_type": "code",
   "execution_count": 17,
   "id": "80060dee",
   "metadata": {},
   "outputs": [],
   "source": [
    "newdf.to_csv('cleaned_data.csv')"
   ]
  },
  {
   "cell_type": "markdown",
   "id": "2515c8c1",
   "metadata": {},
   "source": [
    "# Data Visualisation"
   ]
  },
  {
   "cell_type": "markdown",
   "id": "768952db",
   "metadata": {},
   "source": [
    "## Types of Hotels"
   ]
  },
  {
   "cell_type": "code",
   "execution_count": 18,
   "id": "163ffc58",
   "metadata": {},
   "outputs": [
    {
     "data": {
      "text/plain": [
       "['City Hotel', 'Resort Hotel']"
      ]
     },
     "execution_count": 18,
     "metadata": {},
     "output_type": "execute_result"
    }
   ],
   "source": [
    "hotel_names = newdf.hotel.value_counts().index.tolist()\n",
    "hotel_names  # names of the types of hotels"
   ]
  },
  {
   "cell_type": "code",
   "execution_count": 19,
   "id": "10c25318",
   "metadata": {},
   "outputs": [
    {
     "data": {
      "text/plain": [
       "[79330, 40060]"
      ]
     },
     "execution_count": 19,
     "metadata": {},
     "output_type": "execute_result"
    }
   ],
   "source": [
    "data_values = newdf.hotel.value_counts().tolist()\n",
    "data_values  # no. of hotel entries of each type"
   ]
  },
  {
   "cell_type": "code",
   "execution_count": 20,
   "id": "fdd9d82e",
   "metadata": {},
   "outputs": [
    {
     "data": {
      "text/plain": [
       "Text(0.5, 1.0, 'Hotel Bookings')"
      ]
     },
     "execution_count": 20,
     "metadata": {},
     "output_type": "execute_result"
    },
    {
     "data": {
      "image/png": "[encoded data removed]",
      "text/plain": [
       "<Figure size 432x576 with 1 Axes>"
      ]
     },
     "metadata": {},
     "output_type": "display_data"
    }
   ],
   "source": [
    "plt.figure(figsize = (6,8)) \n",
    "plt.pie(data_values, labels = hotel_names, colors = [\"lightsalmon\", \"royalblue\"], autopct = '%1.1f%%', startangle = 90, textprops = {'fontsize': 15})\n",
    "plt.title(\"Hotel Bookings\", fontsize = 15)\n",
    "#  Pie Chart depicting the data in %"
   ]
  },
  {
   "cell_type": "markdown",
   "id": "2a6458d4",
   "metadata": {},
   "source": [
    "## Cancellations in Hotels"
   ]
  },
  {
   "cell_type": "code",
   "execution_count": 21,
   "id": "57248228",
   "metadata": {},
   "outputs": [
    {
     "data": {
      "text/html": [
       "<div>\n",
       "<style scoped>\n",
       "    .dataframe tbody tr th:only-of-type {\n",
       "        vertical-align: middle;\n",
       "    }\n",
       "\n",
       "    .dataframe tbody tr th {\n",
       "        vertical-align: top;\n",
       "    }\n",
       "\n",
       "    .dataframe thead th {\n",
       "        text-align: right;\n",
       "    }\n",
       "</style>\n",
       "<table border=\"1\" class=\"dataframe\">\n",
       "  <thead>\n",
       "    <tr style=\"text-align: right;\">\n",
       "      <th></th>\n",
       "      <th>hotel</th>\n",
       "      <th>count_of_cancellations</th>\n",
       "    </tr>\n",
       "  </thead>\n",
       "  <tbody>\n",
       "    <tr>\n",
       "      <th>0</th>\n",
       "      <td>City Hotel</td>\n",
       "      <td>33102</td>\n",
       "    </tr>\n",
       "    <tr>\n",
       "      <th>1</th>\n",
       "      <td>Resort Hotel</td>\n",
       "      <td>11122</td>\n",
       "    </tr>\n",
       "  </tbody>\n",
       "</table>\n",
       "</div>"
      ],
      "text/plain": [
       "          hotel  count_of_cancellations\n",
       "0    City Hotel                   33102\n",
       "1  Resort Hotel                   11122"
      ]
     },
     "execution_count": 21,
     "metadata": {},
     "output_type": "execute_result"
    }
   ],
   "source": [
    "comparators = ['is_canceled', 'hotel']\n",
    "which_hotel_cancelled = newdf[comparators]\n",
    "cancelled_hotel = which_hotel_cancelled[which_hotel_cancelled['is_canceled'] == 1].groupby(['hotel']).size().reset_index(name = 'count_of_cancellations')\n",
    "cancelled_hotel\n",
    "# cancellation data"
   ]
  },
  {
   "cell_type": "code",
   "execution_count": 22,
   "id": "1ff19f32",
   "metadata": {},
   "outputs": [
    {
     "data": {
      "text/plain": [
       "[33102, 11122]"
      ]
     },
     "execution_count": 22,
     "metadata": {},
     "output_type": "execute_result"
    }
   ],
   "source": [
    "hotel_cancellations = cancelled_hotel['count_of_cancellations'].tolist()\n",
    "hotel_cancellations  # no. of cancellations in each hotel"
   ]
  },
  {
   "cell_type": "code",
   "execution_count": 23,
   "id": "4669e50b",
   "metadata": {},
   "outputs": [
    {
     "data": {
      "text/plain": [
       "Text(0.5, 1.0, 'Hotel Cancellations')"
      ]
     },
     "execution_count": 23,
     "metadata": {},
     "output_type": "execute_result"
    },
    {
     "data": {
      "image/png": "[encoded data removed]",
      "text/plain": [
       "<Figure size 432x576 with 1 Axes>"
      ]
     },
     "metadata": {},
     "output_type": "display_data"
    }
   ],
   "source": [
    "plt.figure(figsize = (6,8)) \n",
    "plt.pie(hotel_cancellations, labels = hotel_names, colors = [\"lightsalmon\", \"royalblue\"], autopct = '%1.1f%%', startangle = 90, textprops = {'fontsize': 15})\n",
    "plt.title(\"Hotel Cancellations\", fontsize = 15)\n",
    "#  Pie Chart depicting the data in %"
   ]
  },
  {
   "cell_type": "markdown",
   "id": "587e4591",
   "metadata": {},
   "source": [
    "## Cancelled Bookings"
   ]
  },
  {
   "cell_type": "code",
   "execution_count": 24,
   "id": "a3a869f3",
   "metadata": {},
   "outputs": [
    {
     "data": {
      "text/plain": [
       "(46228, 28938)"
      ]
     },
     "execution_count": 24,
     "metadata": {},
     "output_type": "execute_result"
    }
   ],
   "source": [
    "city_cancelled_bookings = data_values[0] - hotel_cancellations[0]\n",
    "resort_cancelled_bookings = data_values[1] - hotel_cancellations[1]\n",
    "\n",
    "city_cancelled_bookings, resort_cancelled_bookings\n",
    "#no. of cancellations after booking"
   ]
  },
  {
   "cell_type": "code",
   "execution_count": 25,
   "id": "2c01f5c9",
   "metadata": {},
   "outputs": [],
   "source": [
    "cancelled_bookings_ = [46228, 28938]\n",
    "#made arr for them"
   ]
  },
  {
   "cell_type": "code",
   "execution_count": 26,
   "id": "bd9ce751",
   "metadata": {},
   "outputs": [
    {
     "data": {
      "text/plain": [
       "Text(0.5, 1.0, 'Hotel Bookings Cancellations')"
      ]
     },
     "execution_count": 26,
     "metadata": {},
     "output_type": "execute_result"
    },
    {
     "data": {
      "image/png": "[encoded data removed]",
      "text/plain": [
       "<Figure size 432x576 with 1 Axes>"
      ]
     },
     "metadata": {},
     "output_type": "display_data"
    }
   ],
   "source": [
    "plt.figure(figsize = (6,8)) \n",
    "plt.pie(cancelled_bookings_, labels = hotel_names, colors = [\"lightsalmon\", \"royalblue\"], autopct = '%1.1f%%', startangle = 90, textprops = {'fontsize': 15})\n",
    "plt.title(\"Hotel Bookings Cancellations\", fontsize = 15)\n",
    "# Shows % cancellations after booking per hotel"
   ]
  },
  {
   "cell_type": "markdown",
   "id": "19e7b388",
   "metadata": {},
   "source": [
    "## Visitor's Countries"
   ]
  },
  {
   "cell_type": "code",
   "execution_count": 27,
   "id": "40123498",
   "metadata": {},
   "outputs": [
    {
     "data": {
      "text/plain": [
       "['PRT',\n",
       " 'GBR',\n",
       " 'USA',\n",
       " 'ESP',\n",
       " 'IRL',\n",
       " 'FRA',\n",
       " 'ROU',\n",
       " 'NOR',\n",
       " 'OMN',\n",
       " 'ARG',\n",
       " 'POL',\n",
       " 'DEU',\n",
       " 'BEL',\n",
       " 'CHE',\n",
       " 'CN',\n",
       " 'GRC',\n",
       " 'ITA',\n",
       " 'NLD',\n",
       " 'DNK',\n",
       " 'RUS',\n",
       " 'SWE',\n",
       " 'AUS',\n",
       " 'EST',\n",
       " 'CZE',\n",
       " 'BRA',\n",
       " 'FIN',\n",
       " 'MOZ',\n",
       " 'BWA',\n",
       " 'LUX',\n",
       " 'SVN',\n",
       " 'ALB',\n",
       " 'IND',\n",
       " 'CHN',\n",
       " 'MEX',\n",
       " 'MAR',\n",
       " 'UKR',\n",
       " 'SMR',\n",
       " 'LVA',\n",
       " 'PRI',\n",
       " 'SRB',\n",
       " 'CHL',\n",
       " 'AUT',\n",
       " 'BLR',\n",
       " 'LTU',\n",
       " 'TUR',\n",
       " 'ZAF',\n",
       " 'AGO',\n",
       " 'ISR',\n",
       " 'CYM',\n",
       " 'ZMB',\n",
       " 'CPV',\n",
       " 'ZWE',\n",
       " 'DZA',\n",
       " 'KOR',\n",
       " 'CRI',\n",
       " 'HUN',\n",
       " 'ARE',\n",
       " 'TUN',\n",
       " 'JAM',\n",
       " 'HRV',\n",
       " 'HKG',\n",
       " 'IRN',\n",
       " 'GEO',\n",
       " 'AND',\n",
       " 'GIB',\n",
       " 'URY',\n",
       " 'JEY',\n",
       " 'CAF',\n",
       " 'CYP',\n",
       " 'COL',\n",
       " 'GGY',\n",
       " 'KWT',\n",
       " 'NGA',\n",
       " 'MDV',\n",
       " 'VEN',\n",
       " 'SVK',\n",
       " 'FJI',\n",
       " 'KAZ',\n",
       " 'PAK',\n",
       " 'IDN',\n",
       " 'LBN',\n",
       " 'PHL',\n",
       " 'SEN',\n",
       " 'SYC',\n",
       " 'AZE',\n",
       " 'BHR',\n",
       " 'NZL',\n",
       " 'THA',\n",
       " 'DOM',\n",
       " 'MKD',\n",
       " 'MYS',\n",
       " 'ARM',\n",
       " 'JPN',\n",
       " 'LKA',\n",
       " 'CUB',\n",
       " 'CMR',\n",
       " 'BIH',\n",
       " 'MUS',\n",
       " 'COM',\n",
       " 'SUR',\n",
       " 'UGA',\n",
       " 'BGR',\n",
       " 'CIV',\n",
       " 'JOR',\n",
       " 'SYR',\n",
       " 'SGP',\n",
       " 'BDI',\n",
       " 'SAU',\n",
       " 'VNM',\n",
       " 'PLW',\n",
       " 'QAT',\n",
       " 'EGY',\n",
       " 'PER',\n",
       " 'MLT',\n",
       " 'MWI',\n",
       " 'ECU',\n",
       " 'MDG',\n",
       " 'ISL',\n",
       " 'UZB',\n",
       " 'NPL',\n",
       " 'BHS',\n",
       " 'MAC',\n",
       " 'TGO',\n",
       " 'TWN',\n",
       " 'DJI',\n",
       " 'STP',\n",
       " 'KNA',\n",
       " 'ETH',\n",
       " 'IRQ',\n",
       " 'HND',\n",
       " 'RWA',\n",
       " 'KHM',\n",
       " 'MCO',\n",
       " 'BGD',\n",
       " 'IMN',\n",
       " 'TJK',\n",
       " 'NIC',\n",
       " 'BEN',\n",
       " 'VGB',\n",
       " 'TZA',\n",
       " 'GAB',\n",
       " 'GHA',\n",
       " 'TMP',\n",
       " 'GLP',\n",
       " 'KEN',\n",
       " 'LIE',\n",
       " 'GNB',\n",
       " 'MNE',\n",
       " 'UMI',\n",
       " 'MYT',\n",
       " 'FRO',\n",
       " 'MMR',\n",
       " 'PAN',\n",
       " 'BFA',\n",
       " 'LBY',\n",
       " 'MLI',\n",
       " 'NAM',\n",
       " 'BOL',\n",
       " 'PRY',\n",
       " 'BRB',\n",
       " 'ABW',\n",
       " 'AIA',\n",
       " 'SLV',\n",
       " 'DMA',\n",
       " 'PYF',\n",
       " 'GUY',\n",
       " 'LCA',\n",
       " 'ATA',\n",
       " 'GTM',\n",
       " 'ASM',\n",
       " 'MRT',\n",
       " 'NCL',\n",
       " 'KIR',\n",
       " 'SDN',\n",
       " 'ATF',\n",
       " 'SLE',\n",
       " 'LAO']"
      ]
     },
     "execution_count": 27,
     "metadata": {},
     "output_type": "execute_result"
    }
   ],
   "source": [
    "countries = newdf.country.unique().tolist()\n",
    "countries  # store all countries in a list"
   ]
  },
  {
   "cell_type": "code",
   "execution_count": 28,
   "id": "44b780d3",
   "metadata": {},
   "outputs": [
    {
     "data": {
      "text/plain": [
       "PRT    49078\n",
       "GBR    12129\n",
       "FRA    10415\n",
       "ESP     8568\n",
       "DEU     7287\n",
       "ITA     3766\n",
       "IRL     3375\n",
       "BEL     2342\n",
       "BRA     2224\n",
       "NLD     2104\n",
       "USA     2097\n",
       "CHE     1730\n",
       "CN      1279\n",
       "AUT     1263\n",
       "SWE     1024\n",
       "Name: country, dtype: int64"
      ]
     },
     "execution_count": 28,
     "metadata": {},
     "output_type": "execute_result"
    }
   ],
   "source": [
    "country_visitors = newdf['country'].value_counts().head(15)\n",
    "country_visitors  # Top 15 countries count"
   ]
  },
  {
   "cell_type": "code",
   "execution_count": 29,
   "id": "b4ffbbe8",
   "metadata": {},
   "outputs": [
    {
     "data": {
      "text/plain": [
       "['Portugal',\n",
       " 'Great Britain',\n",
       " 'France',\n",
       " 'Spain',\n",
       " 'Germany',\n",
       " 'Italy',\n",
       " 'Ireland',\n",
       " 'Belgium',\n",
       " 'Brazil',\n",
       " 'Netherlands',\n",
       " 'USA',\n",
       " 'Switzerland',\n",
       " 'China',\n",
       " 'Australia',\n",
       " 'Sweden']"
      ]
     },
     "execution_count": 29,
     "metadata": {},
     "output_type": "execute_result"
    }
   ],
   "source": [
    "countries = ['Portugal', 'Great Britain', 'France', 'Spain', 'Germany', 'Italy', 'Ireland', 'Belgium', 'Brazil', 'Netherlands', 'USA', 'Switzerland', 'China', 'Australia', 'Sweden']\n",
    "countries  # Top 15 countries names"
   ]
  },
  {
   "cell_type": "code",
   "execution_count": 30,
   "id": "6f32d4e8",
   "metadata": {},
   "outputs": [
    {
     "data": {
      "text/plain": [
       "Text(0, 0.5, 'Visitors')"
      ]
     },
     "execution_count": 30,
     "metadata": {},
     "output_type": "execute_result"
    },
    {
     "data": {
      "image/png": "[encoded data removed]",
      "text/plain": [
       "<Figure size 1440x864 with 1 Axes>"
      ]
     },
     "metadata": {
      "needs_background": "light"
     },
     "output_type": "display_data"
    }
   ],
   "source": [
    "plt.figure(figsize = (20, 12)) \n",
    "plt.bar(x = countries, height = country_visitors, color = \"lightsalmon\", edgecolor = \"royalblue\")\n",
    "plt.title(\"Top 15 Countries\", fontsize = 20)\n",
    "plt.xlabel('Countries', fontsize = 13)\n",
    "plt.ylabel('Visitors', fontsize = 13)\n",
    "# Bar Chart of those Top 15 countries"
   ]
  },
  {
   "cell_type": "markdown",
   "id": "a008585c",
   "metadata": {},
   "source": [
    "## Month-vise Customers influx"
   ]
  },
  {
   "cell_type": "code",
   "execution_count": 31,
   "id": "2728811d",
   "metadata": {},
   "outputs": [
    {
     "data": {
      "text/plain": [
       "Text(0, 0.5, 'Visitors')"
      ]
     },
     "execution_count": 31,
     "metadata": {},
     "output_type": "execute_result"
    },
    {
     "data": {
      "image/png": "[encoded data removed]",
      "text/plain": [
       "<Figure size 1080x720 with 1 Axes>"
      ]
     },
     "metadata": {
      "needs_background": "light"
     },
     "output_type": "display_data"
    }
   ],
   "source": [
    "plt.figure(figsize = (15, 10))\n",
    "comparators_1 = ['hotel','arrival_date_month']\n",
    "sns.countplot(data = newdf[comparators_1], x = \"arrival_date_month\", hue = \"hotel\", order = [\"January\",\"February\",\"March\",\"April\",\"May\",\"June\",\"July\",\"August\",\"September\",\"October\",\"November\",\"December\"], edgecolor = \"royalblue\").set_title('Number of Visitors Each Month', fontsize = 15)\n",
    "plt.xlabel('Month', fontsize = 13)\n",
    "plt.ylabel('Visitors', fontsize = 13)\n",
    "#Month vise distribution of visitors"
   ]
  },
  {
   "cell_type": "markdown",
   "id": "948660a7",
   "metadata": {},
   "source": [
    "## Types of visitors"
   ]
  },
  {
   "cell_type": "code",
   "execution_count": 32,
   "id": "a99a9c00",
   "metadata": {},
   "outputs": [
    {
     "data": {
      "text/plain": [
       "<matplotlib.legend.Legend at 0x12c561520>"
      ]
     },
     "execution_count": 32,
     "metadata": {},
     "output_type": "execute_result"
    },
    {
     "data": {
      "image/png": "[encoded data removed]",
      "text/plain": [
       "<Figure size 1080x720 with 1 Axes>"
      ]
     },
     "metadata": {
      "needs_background": "light"
     },
     "output_type": "display_data"
    }
   ],
   "source": [
    "plt.figure(figsize = (15, 10))\n",
    "sns.countplot(data = newdf, x = 'adults', hue = 'hotel', edgecolor = \"royalblue\").set_title(\"Number of Adults Visiting each Hotel\", fontsize = 15)\n",
    "plt.xlabel('Adults', fontsize = 13)\n",
    "plt.ylabel('Visitors', fontsize = 13)\n",
    "plt.legend(loc = 'center')\n",
    "# No. of adults visiting both hotels"
   ]
  },
  {
   "cell_type": "code",
   "execution_count": 33,
   "id": "900ae83e",
   "metadata": {},
   "outputs": [
    {
     "data": {
      "text/plain": [
       "<matplotlib.legend.Legend at 0x12c6b8250>"
      ]
     },
     "execution_count": 33,
     "metadata": {},
     "output_type": "execute_result"
    },
    {
     "data": {
      "image/png": "[encoded data removed]",
      "text/plain": [
       "<Figure size 1080x720 with 1 Axes>"
      ]
     },
     "metadata": {
      "needs_background": "light"
     },
     "output_type": "display_data"
    }
   ],
   "source": [
    "plt.figure(figsize = (15, 10))\n",
    "sns.countplot(data = newdf, x = 'children', hue = 'hotel', edgecolor = \"royalblue\").set_title(\"Number of Children Visiting each Hotel\", fontsize = 15)\n",
    "plt.xlabel('Children', fontsize = 13)\n",
    "plt.ylabel('Visitors', fontsize = 13)\n",
    "plt.legend(loc = 'center')\n",
    "# No. of children visiting both hotels"
   ]
  },
  {
   "cell_type": "code",
   "execution_count": 34,
   "id": "60baaf34",
   "metadata": {},
   "outputs": [
    {
     "data": {
      "text/plain": [
       "<matplotlib.legend.Legend at 0x12c5702e0>"
      ]
     },
     "execution_count": 34,
     "metadata": {},
     "output_type": "execute_result"
    },
    {
     "data": {
      "image/png": "[encoded data removed]",
      "text/plain": [
       "<Figure size 1080x720 with 1 Axes>"
      ]
     },
     "metadata": {
      "needs_background": "light"
     },
     "output_type": "display_data"
    }
   ],
   "source": [
    "plt.figure(figsize = (15, 10))\n",
    "sns.countplot(data = newdf, x = 'babies', hue = 'hotel', edgecolor = \"royalblue\").set_title(\"Number of Babies Visiting each Hotel\", fontsize = 15)\n",
    "plt.xlabel('Babies', fontsize = 13)\n",
    "plt.ylabel('Visitors', fontsize = 13)\n",
    "plt.legend(loc = 'center')\n",
    "# No. of babies visiting both hotels"
   ]
  },
  {
   "cell_type": "markdown",
   "id": "31cff896",
   "metadata": {},
   "source": [
    "## Meals"
   ]
  },
  {
   "cell_type": "code",
   "execution_count": 35,
   "id": "aed7c98d",
   "metadata": {},
   "outputs": [
    {
     "data": {
      "text/plain": [
       "array(['BB', 'FB', 'HB', 'SC', 'Undefined'], dtype=object)"
      ]
     },
     "execution_count": 35,
     "metadata": {},
     "output_type": "execute_result"
    }
   ],
   "source": [
    "newdf.meal.unique()  # Meal type options"
   ]
  },
  {
   "cell_type": "code",
   "execution_count": 36,
   "id": "867473fc",
   "metadata": {},
   "outputs": [],
   "source": [
    "newdf['meal'] = newdf.meal.replace(['BB', 'FB', 'HB', 'SC', 'Undefined'],[\"Bed & Breakfast\", \"Full Board\", \"Half Board\", \"No Meal\", \"Not Defined\"])\n",
    "# Full Form explained"
   ]
  },
  {
   "cell_type": "code",
   "execution_count": 37,
   "id": "559f9fa8",
   "metadata": {},
   "outputs": [
    {
     "data": {
      "text/plain": [
       "<matplotlib.legend.Legend at 0x12c632b20>"
      ]
     },
     "execution_count": 37,
     "metadata": {},
     "output_type": "execute_result"
    },
    {
     "data": {
      "image/png": "[encoded data removed]",
      "text/plain": [
       "<Figure size 1080x720 with 1 Axes>"
      ]
     },
     "metadata": {
      "needs_background": "light"
     },
     "output_type": "display_data"
    }
   ],
   "source": [
    "plt.figure(figsize = (15, 10))\n",
    "sns.countplot(data = newdf, x = 'meal', hue = 'hotel', edgecolor = \"royalblue\").set_title(\"Meals taken by the visitors\", fontsize = 15)\n",
    "plt.xlabel('Meals', fontsize = 13)\n",
    "plt.ylabel('Visitors', fontsize = 13)\n",
    "plt.legend(loc = 'center')\n",
    "# Meals taken by visitors in both hotels"
   ]
  },
  {
   "cell_type": "markdown",
   "id": "8fe4ddff",
   "metadata": {},
   "source": [
    "## Rooms Assigned"
   ]
  },
  {
   "cell_type": "code",
   "execution_count": 38,
   "id": "258a62bf",
   "metadata": {},
   "outputs": [
    {
     "data": {
      "text/plain": [
       "array(['C', 'A', 'D', 'E', 'G', 'F', 'I', 'B', 'H', 'P', 'L', 'K'],\n",
       "      dtype=object)"
      ]
     },
     "execution_count": 38,
     "metadata": {},
     "output_type": "execute_result"
    }
   ],
   "source": [
    "newdf.assigned_room_type.unique()  # Rooms available"
   ]
  },
  {
   "cell_type": "code",
   "execution_count": 39,
   "id": "4e5a89e7",
   "metadata": {},
   "outputs": [
    {
     "data": {
      "text/plain": [
       "<matplotlib.legend.Legend at 0x12c778b80>"
      ]
     },
     "execution_count": 39,
     "metadata": {},
     "output_type": "execute_result"
    },
    {
     "data": {
      "image/png": "[encoded data removed]",
      "text/plain": [
       "<Figure size 1080x720 with 1 Axes>"
      ]
     },
     "metadata": {
      "needs_background": "light"
     },
     "output_type": "display_data"
    }
   ],
   "source": [
    "plt.figure(figsize = (15, 10))\n",
    "sns.countplot(data = newdf, x = 'assigned_room_type', hue = 'hotel', edgecolor = \"royalblue\", order = [\"A\", \"B\", \"C\", \"D\", \"E\", \"F\", \"G\", \"H\", \"I\", \"K\", \"L\", \"P\"]).set_title(\"Rooms assigned to the visitors\", fontsize = 15)\n",
    "plt.xlabel('Rooms', fontsize = 13)\n",
    "plt.ylabel('Visitors', fontsize = 13)\n",
    "plt.legend(loc = 'center')\n",
    "# Rooms assigned to visitors in both hotels"
   ]
  },
  {
   "cell_type": "markdown",
   "id": "4b03ae1d",
   "metadata": {},
   "source": [
    "## Repeat Customers"
   ]
  },
  {
   "cell_type": "code",
   "execution_count": 40,
   "id": "303f8385",
   "metadata": {},
   "outputs": [],
   "source": [
    "newdf['is_repeated_guest'] = newdf.is_repeated_guest.replace([0,1], ['No', 'Yes']) # Repeat Customer or Not"
   ]
  },
  {
   "cell_type": "code",
   "execution_count": 41,
   "id": "4ffdb446",
   "metadata": {},
   "outputs": [
    {
     "data": {
      "text/plain": [
       "<matplotlib.legend.Legend at 0x12c8a8c70>"
      ]
     },
     "execution_count": 41,
     "metadata": {},
     "output_type": "execute_result"
    },
    {
     "data": {
      "image/png": "[encoded data removed]",
      "text/plain": [
       "<Figure size 1080x720 with 1 Axes>"
      ]
     },
     "metadata": {
      "needs_background": "light"
     },
     "output_type": "display_data"
    }
   ],
   "source": [
    "plt.figure(figsize = (15, 10))\n",
    "sns.countplot(data = newdf, x = 'is_repeated_guest', hue = 'hotel', edgecolor = \"royalblue\", order = [\"Yes\", \"No\"]).set_title(\"Number of Repeat Customers\", fontsize = 15)\n",
    "plt.xlabel('Repeat Customers', fontsize = 13)\n",
    "plt.ylabel('Visitors', fontsize = 13)\n",
    "plt.legend(loc = 'center left')\n",
    "# Repeat Customers for both hotels"
   ]
  },
  {
   "cell_type": "code",
   "execution_count": 42,
   "id": "40d3e75f",
   "metadata": {},
   "outputs": [
    {
     "data": {
      "text/html": [
       "<div>\n",
       "<style scoped>\n",
       "    .dataframe tbody tr th:only-of-type {\n",
       "        vertical-align: middle;\n",
       "    }\n",
       "\n",
       "    .dataframe tbody tr th {\n",
       "        vertical-align: top;\n",
       "    }\n",
       "\n",
       "    .dataframe thead th {\n",
       "        text-align: right;\n",
       "    }\n",
       "</style>\n",
       "<table border=\"1\" class=\"dataframe\">\n",
       "  <thead>\n",
       "    <tr style=\"text-align: right;\">\n",
       "      <th></th>\n",
       "      <th>hotel</th>\n",
       "      <th>count_of_repeated_guests</th>\n",
       "    </tr>\n",
       "  </thead>\n",
       "  <tbody>\n",
       "    <tr>\n",
       "      <th>0</th>\n",
       "      <td>City Hotel</td>\n",
       "      <td>2032</td>\n",
       "    </tr>\n",
       "    <tr>\n",
       "      <th>1</th>\n",
       "      <td>Resort Hotel</td>\n",
       "      <td>1778</td>\n",
       "    </tr>\n",
       "  </tbody>\n",
       "</table>\n",
       "</div>"
      ],
      "text/plain": [
       "          hotel  count_of_repeated_guests\n",
       "0    City Hotel                      2032\n",
       "1  Resort Hotel                      1778"
      ]
     },
     "execution_count": 42,
     "metadata": {},
     "output_type": "execute_result"
    }
   ],
   "source": [
    "comparators_2 = ['is_repeated_guest', 'hotel']\n",
    "repeated = newdf[comparators_2]\n",
    "repeated_guests_df = repeated[repeated['is_repeated_guest'] == \"Yes\"].groupby(['hotel']).size().reset_index(name = 'count_of_repeated_guests')\n",
    "repeated_guests_df\n",
    "#Repeated customers count "
   ]
  },
  {
   "cell_type": "code",
   "execution_count": 43,
   "id": "b1dfa105",
   "metadata": {},
   "outputs": [
    {
     "data": {
      "text/plain": [
       "[2032, 1778]"
      ]
     },
     "execution_count": 43,
     "metadata": {},
     "output_type": "execute_result"
    }
   ],
   "source": [
    "repeat_customers_count = repeated_guests_df['count_of_repeated_guests'].tolist()\n",
    "repeat_customers_count\n",
    "# count into a list"
   ]
  },
  {
   "cell_type": "code",
   "execution_count": 44,
   "id": "fe892c84",
   "metadata": {},
   "outputs": [
    {
     "data": {
      "text/plain": [
       "Text(0.5, 1.0, 'Repeat Customers')"
      ]
     },
     "execution_count": 44,
     "metadata": {},
     "output_type": "execute_result"
    },
    {
     "data": {
      "image/png": "[encoded data removed]",
      "text/plain": [
       "<Figure size 432x576 with 1 Axes>"
      ]
     },
     "metadata": {},
     "output_type": "display_data"
    }
   ],
   "source": [
    "plt.figure(figsize = (6,8)) \n",
    "plt.pie(repeat_customers_count, labels = hotel_names, colors = [\"lightsalmon\", \"royalblue\"], autopct = '%1.1f%%', startangle = 90, textprops = {'fontsize': 15})\n",
    "plt.title(\"Repeat Customers\", fontsize = 15)\n",
    "# Shows % return customers per hotel"
   ]
  },
  {
   "cell_type": "code",
   "execution_count": 45,
   "id": "b23a33bd",
   "metadata": {},
   "outputs": [
    {
     "data": {
      "text/html": [
       "<div>\n",
       "<style scoped>\n",
       "    .dataframe tbody tr th:only-of-type {\n",
       "        vertical-align: middle;\n",
       "    }\n",
       "\n",
       "    .dataframe tbody tr th {\n",
       "        vertical-align: top;\n",
       "    }\n",
       "\n",
       "    .dataframe thead th {\n",
       "        text-align: right;\n",
       "    }\n",
       "</style>\n",
       "<table border=\"1\" class=\"dataframe\">\n",
       "  <thead>\n",
       "    <tr style=\"text-align: right;\">\n",
       "      <th></th>\n",
       "      <th>hotel</th>\n",
       "      <th>count_of_not_repeated_guests</th>\n",
       "    </tr>\n",
       "  </thead>\n",
       "  <tbody>\n",
       "    <tr>\n",
       "      <th>0</th>\n",
       "      <td>City Hotel</td>\n",
       "      <td>77298</td>\n",
       "    </tr>\n",
       "    <tr>\n",
       "      <th>1</th>\n",
       "      <td>Resort Hotel</td>\n",
       "      <td>38282</td>\n",
       "    </tr>\n",
       "  </tbody>\n",
       "</table>\n",
       "</div>"
      ],
      "text/plain": [
       "          hotel  count_of_not_repeated_guests\n",
       "0    City Hotel                         77298\n",
       "1  Resort Hotel                         38282"
      ]
     },
     "execution_count": 45,
     "metadata": {},
     "output_type": "execute_result"
    }
   ],
   "source": [
    "comparators_3 = ['is_repeated_guest', 'hotel']\n",
    "repeated_ = newdf[comparators_3]\n",
    "repeated_guests_df_ = repeated_[repeated_['is_repeated_guest'] == \"No\"].groupby(['hotel']).size().reset_index(name = 'count_of_not_repeated_guests')\n",
    "repeated_guests_df_\n",
    "# Not repeated guests count"
   ]
  },
  {
   "cell_type": "code",
   "execution_count": 46,
   "id": "727f7c8b",
   "metadata": {},
   "outputs": [
    {
     "data": {
      "text/plain": [
       "[77298, 38282]"
      ]
     },
     "execution_count": 46,
     "metadata": {},
     "output_type": "execute_result"
    }
   ],
   "source": [
    "not_repeat_customers_count = repeated_guests_df_['count_of_not_repeated_guests'].tolist()\n",
    "not_repeat_customers_count\n",
    "# count into a list"
   ]
  },
  {
   "cell_type": "code",
   "execution_count": 47,
   "id": "d485534a",
   "metadata": {},
   "outputs": [
    {
     "data": {
      "text/plain": [
       "Text(0.5, 1.0, 'Not Repeat Customers')"
      ]
     },
     "execution_count": 47,
     "metadata": {},
     "output_type": "execute_result"
    },
    {
     "data": {
      "image/png": "[encoded data removed]",
      "text/plain": [
       "<Figure size 432x576 with 1 Axes>"
      ]
     },
     "metadata": {},
     "output_type": "display_data"
    }
   ],
   "source": [
    "plt.figure(figsize = (6,8)) \n",
    "plt.pie(not_repeat_customers_count, labels = hotel_names, colors = [\"lightsalmon\", \"royalblue\"], autopct = '%1.1f%%', startangle = 90, textprops = {'fontsize': 15})\n",
    "plt.title(\"Not Repeat Customers\", fontsize = 15)\n",
    "# Shows % not return customers per hotel"
   ]
  },
  {
   "cell_type": "markdown",
   "id": "a31f755c",
   "metadata": {},
   "source": [
    "## Mismatched Rooms"
   ]
  },
  {
   "cell_type": "code",
   "execution_count": 48,
   "id": "4dd0023b",
   "metadata": {},
   "outputs": [
    {
     "name": "stdout",
     "output_type": "stream",
     "text": [
      "[{'July': 4067, 'August': 4415, 'September': 2576, 'October': 2815, 'November': 1710, 'December': 1987, 'January': 1353, 'February': 2273, 'March': 2541, 'April': 2969, 'May': 2941, 'June': 2688}, {'July': 7525, 'August': 8273, 'September': 6371, 'October': 6688, 'November': 3857, 'December': 3704, 'January': 3486, 'February': 4477, 'March': 5841, 'April': 6930, 'May': 7637, 'June': 7349}]\n"
     ]
    }
   ],
   "source": [
    "arr = [{}, {}]\n",
    "for i in range(119390):\n",
    "    res = newdf.iloc[i]['reserved_room_type']\n",
    "    ass = newdf.iloc[i]['assigned_room_type']\n",
    "    hotel = newdf.iloc[i]['hotel']\n",
    "    month = newdf.iloc[i]['arrival_date_month']\n",
    "    if (hotel == 'Resort Hotel') :\n",
    "        if month not in arr[0].keys():\n",
    "            arr[0][month] = 0\n",
    "        arr[0][month] += (res == ass)\n",
    "    else:\n",
    "        if month not in arr[1].keys():\n",
    "            arr[1][month] = 0\n",
    "        arr[1][month] += (res == ass)\n",
    "print(arr)\n",
    "\n",
    "# Mapping mismatches in booked and assigned rooms every month per hotel"
   ]
  },
  {
   "cell_type": "code",
   "execution_count": 49,
   "id": "700f301e",
   "metadata": {},
   "outputs": [
    {
     "data": {
      "text/plain": [
       "Text(0.5, 1.0, 'City Hotel Rooms Mismatches')"
      ]
     },
     "execution_count": 49,
     "metadata": {},
     "output_type": "execute_result"
    },
    {
     "data": {
      "image/png": "[encoded data removed]",
      "text/plain": [
       "<Figure size 1080x720 with 1 Axes>"
      ]
     },
     "metadata": {
      "needs_background": "light"
     },
     "output_type": "display_data"
    }
   ],
   "source": [
    "city_hotel_rooms = arr[1]\n",
    "months = list(city_hotel_rooms.keys())\n",
    "city_room_mismatches = list(city_hotel_rooms.values())\n",
    "\n",
    "plt.figure(figsize = (15, 10))\n",
    "plt.xlabel('Month', fontsize = 13)\n",
    "plt.ylabel('Room Mismatches', fontsize = 13)\n",
    "sns.barplot(x = months, y = city_room_mismatches, order = [\"January\",\"February\",\"March\",\"April\",\"May\",\"June\",\"July\",\"August\",\"September\",\"October\",\"November\",\"December\"], edgecolor = \"royalblue\").set_title(\"City Hotel Rooms Mismatches\", fontsize = 15)\n",
    "\n",
    "# Shows mismatches in rooms in the city hotel per month"
   ]
  },
  {
   "cell_type": "code",
   "execution_count": 50,
   "id": "612f985b",
   "metadata": {},
   "outputs": [
    {
     "data": {
      "text/plain": [
       "Text(0.5, 1.0, 'Resort Hotel Rooms Mismatches')"
      ]
     },
     "execution_count": 50,
     "metadata": {},
     "output_type": "execute_result"
    },
    {
     "data": {
      "image/png": "[encoded data removed]",
      "text/plain": [
       "<Figure size 1080x720 with 1 Axes>"
      ]
     },
     "metadata": {
      "needs_background": "light"
     },
     "output_type": "display_data"
    }
   ],
   "source": [
    "resort_hotel_rooms = arr[0]\n",
    "months = list(resort_hotel_rooms.keys())\n",
    "resort_room_mismatches = list(resort_hotel_rooms.values())\n",
    "\n",
    "plt.figure(figsize = (15, 10))\n",
    "plt.xlabel('Month', fontsize = 13)\n",
    "plt.ylabel('Room Mismatches', fontsize = 13)\n",
    "\n",
    "sns.barplot(x = months, y = resort_room_mismatches, order = [\"January\",\"February\",\"March\",\"April\",\"May\",\"June\",\"July\",\"August\",\"September\",\"October\",\"November\",\"December\"], edgecolor = \"royalblue\").set_title(\"Resort Hotel Rooms Mismatches\", fontsize = 15)\n",
    "\n",
    "# Shows mismatches in rooms in the resort hotel per month"
   ]
  },
  {
   "cell_type": "markdown",
   "id": "70ba39a4",
   "metadata": {},
   "source": [
    "## Special Requests"
   ]
  },
  {
   "cell_type": "code",
   "execution_count": 51,
   "id": "aff0980e",
   "metadata": {},
   "outputs": [
    {
     "data": {
      "text/plain": [
       "<matplotlib.legend.Legend at 0x12cb33040>"
      ]
     },
     "execution_count": 51,
     "metadata": {},
     "output_type": "execute_result"
    },
    {
     "data": {
      "image/png": "[encoded data removed]",
      "text/plain": [
       "<Figure size 1080x720 with 1 Axes>"
      ]
     },
     "metadata": {
      "needs_background": "light"
     },
     "output_type": "display_data"
    }
   ],
   "source": [
    "plt.figure(figsize = (15, 10))\n",
    "sns.countplot(data = newdf, x = 'total_of_special_requests', hue = 'hotel', edgecolor = \"royalblue\").set_title(\"Special Requests\", fontsize = 15)\n",
    "plt.xlabel('No. of special requests', fontsize = 13)\n",
    "plt.ylabel('Visitors', fontsize = 13)\n",
    "plt.legend(loc = 'center')\n",
    "\n",
    "# Shows special requests asked per hotel"
   ]
  },
  {
   "cell_type": "markdown",
   "id": "4680d303",
   "metadata": {},
   "source": [
    "## Visitor Categories"
   ]
  },
  {
   "cell_type": "code",
   "execution_count": 52,
   "id": "939133df",
   "metadata": {},
   "outputs": [
    {
     "data": {
      "text/plain": [
       "<matplotlib.legend.Legend at 0x12cbc1310>"
      ]
     },
     "execution_count": 52,
     "metadata": {},
     "output_type": "execute_result"
    },
    {
     "data": {
      "image/png": "[encoded data removed]",
      "text/plain": [
       "<Figure size 1080x720 with 1 Axes>"
      ]
     },
     "metadata": {
      "needs_background": "light"
     },
     "output_type": "display_data"
    }
   ],
   "source": [
    "plt.figure(figsize = (15, 10))\n",
    "sns.countplot(data = newdf, x = 'category', hue = 'hotel', edgecolor = \"royalblue\", order = [\"Single\", \"Couple\", \"Family\", \"Friends\"]).set_title(\"Visitors' Categories\", fontsize = 15)\n",
    "plt.xlabel('Categories', fontsize = 13)\n",
    "plt.ylabel('Visitors', fontsize = 13)\n",
    "plt.legend(loc = 'center left')\n",
    "\n",
    "# Shows different visitor categories per hotel"
   ]
  },
  {
   "cell_type": "markdown",
   "id": "2fe5adc1",
   "metadata": {},
   "source": [
    "## Average Daily Rate"
   ]
  },
  {
   "cell_type": "code",
   "execution_count": 53,
   "id": "bab7da18",
   "metadata": {},
   "outputs": [],
   "source": [
    "single_adr_city, couple_adr_city, family_adr_city, friends_adr_city = [], [], [], []\n",
    "for i in range(0, 119390):\n",
    "    if newdf.category[i] == 'Single' and newdf.hotel[i] == 'City Hotel':\n",
    "        single_adr_city.append(newdf.adr[i]) \n",
    "    elif newdf.category[i] == 'Couple' and newdf.hotel[i] == 'City Hotel':\n",
    "        couple_adr_city.append(newdf.adr[i]) \n",
    "    elif newdf.category[i] == 'Family' and newdf.hotel[i] == 'City Hotel':\n",
    "        family_adr_city.append(newdf.adr[i]) \n",
    "    elif newdf.category[i] == 'Friends' and newdf.hotel[i] == 'City Hotel':\n",
    "        friends_adr_city.append(newdf.adr[i]) \n",
    "        \n",
    "# Appending ADR values of each category in the City Hotel"
   ]
  },
  {
   "cell_type": "code",
   "execution_count": 54,
   "id": "c8181a3d",
   "metadata": {},
   "outputs": [],
   "source": [
    "single_adr_resort, couple_adr_resort, family_adr_resort, friends_adr_resort = [], [], [], []\n",
    "for i in range(0, 119390):\n",
    "    if newdf.category[i] == 'Single' and newdf.hotel[i] == 'Resort Hotel':\n",
    "        single_adr_resort.append(newdf.adr[i]) \n",
    "    elif newdf.category[i] == 'Couple' and newdf.hotel[i] == 'Resort Hotel':\n",
    "        couple_adr_resort.append(newdf.adr[i]) \n",
    "    elif newdf.category[i] == 'Family' and newdf.hotel[i] == 'Resort Hotel':\n",
    "        family_adr_resort.append(newdf.adr[i]) \n",
    "    elif newdf.category[i] == 'Friends' and newdf.hotel[i] == 'Resort Hotel':\n",
    "        friends_adr_resort.append(newdf.adr[i])\n",
    "        \n",
    "# Appending ADR values of each category in the Resort Hotel"
   ]
  },
  {
   "cell_type": "code",
   "execution_count": 55,
   "id": "3579f9f6",
   "metadata": {},
   "outputs": [
    {
     "data": {
      "text/plain": [
       "[93.52055319969159, 100.37673896797818, 152.49916795366795, 145.36330632411065]"
      ]
     },
     "execution_count": 55,
     "metadata": {},
     "output_type": "execute_result"
    }
   ],
   "source": [
    "category_adr_city = [np.average(single_adr_city) , np.average(couple_adr_city) , np.average(family_adr_city) , np.average(friends_adr_city)]\n",
    "category_adr_city\n",
    "# Mean of the ADR in each category in the City Hotel"
   ]
  },
  {
   "cell_type": "code",
   "execution_count": 56,
   "id": "da615242",
   "metadata": {},
   "outputs": [
    {
     "data": {
      "text/plain": [
       "[54.98597034079566, 93.52725083826782, 161.1449274624586, 150.47636531365313]"
      ]
     },
     "execution_count": 56,
     "metadata": {},
     "output_type": "execute_result"
    }
   ],
   "source": [
    "category_adr_resort = [np.average(single_adr_resort) , np.average(couple_adr_resort) , np.average(family_adr_resort) , np.average(friends_adr_resort)]\n",
    "category_adr_resort\n",
    "# Mean of the ADR in each category in the Resort Hotel"
   ]
  },
  {
   "cell_type": "code",
   "execution_count": 57,
   "id": "ff6d3e5a",
   "metadata": {},
   "outputs": [
    {
     "data": {
      "text/plain": [
       "Text(0, 0.5, 'ADR')"
      ]
     },
     "execution_count": 57,
     "metadata": {},
     "output_type": "execute_result"
    },
    {
     "data": {
      "image/png": "[encoded data removed]",
      "text/plain": [
       "<Figure size 1080x720 with 1 Axes>"
      ]
     },
     "metadata": {
      "needs_background": "light"
     },
     "output_type": "display_data"
    }
   ],
   "source": [
    "plt.figure(figsize = (15, 10))\n",
    "sns.barplot(x = ['Single', 'Couple', 'Family', 'Friends'], y = category_adr_city, edgecolor = \"royalblue\").set_title(\"City Hotel ADR\", fontsize = 15)\n",
    "plt.xlabel('Category', fontsize = 13)\n",
    "plt.ylabel('ADR', fontsize = 13)\n",
    "\n",
    "# Shows the ADR in City Hotel per category"
   ]
  },
  {
   "cell_type": "code",
   "execution_count": 58,
   "id": "e810b706",
   "metadata": {},
   "outputs": [
    {
     "data": {
      "text/plain": [
       "Text(0, 0.5, 'ADR')"
      ]
     },
     "execution_count": 58,
     "metadata": {},
     "output_type": "execute_result"
    },
    {
     "data": {
      "image/png": "[encoded data removed]",
      "text/plain": [
       "<Figure size 1080x720 with 1 Axes>"
      ]
     },
     "metadata": {
      "needs_background": "light"
     },
     "output_type": "display_data"
    }
   ],
   "source": [
    "plt.figure(figsize = (15, 10))\n",
    "sns.barplot(x = ['Single', 'Couple', 'Family', 'Friends'], y = category_adr_resort, edgecolor = \"royalblue\").set_title(\"Resort Hotel ADR\", fontsize = 15)\n",
    "plt.xlabel('Category', fontsize = 13)\n",
    "plt.ylabel('ADR', fontsize = 13)\n",
    "\n",
    "# Shows the ADR in Resort Hotel per category"
   ]
  },
  {
   "cell_type": "code",
   "execution_count": null,
   "id": "25ee2b99",
   "metadata": {},
   "outputs": [],
   "source": []
  },
  {
   "cell_type": "code",
   "execution_count": null,
   "id": "38a5a13c",
   "metadata": {},
   "outputs": [],
   "source": []
  }
 ],
 "metadata": {
  "kernelspec": {
   "display_name": "Python 3 (ipykernel)",
   "language": "python",
   "name": "python3"
  },
  "language_info": {
   "codemirror_mode": {
    "name": "ipython",
    "version": 3
   },
   "file_extension": ".py",
   "mimetype": "text/x-python",
   "name": "python",
   "nbconvert_exporter": "python",
   "pygments_lexer": "ipython3",
   "version": "3.9.1"
  }
 },
 "nbformat": 4,
 "nbformat_minor": 5
}
